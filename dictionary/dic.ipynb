{
 "cells": [
  {
   "cell_type": "code",
   "execution_count": 2,
   "id": "3b2767bc",
   "metadata": {},
   "outputs": [
    {
     "name": "stdout",
     "output_type": "stream",
     "text": [
      "hello\n"
     ]
    }
   ],
   "source": [
    "'''\n",
    "* dictionary are used to store data in ker :values\n",
    ".dictionary can changeble\n",
    "\n",
    "duplicate not allowed key!=key, value==value.\n",
    "\n",
    "\n",
    "'''\n",
    "print('hello')"
   ]
  },
  {
   "cell_type": "code",
   "execution_count": 3,
   "id": "87587b64",
   "metadata": {},
   "outputs": [
    {
     "name": "stdout",
     "output_type": "stream",
     "text": [
      "<class 'dict'>\n",
      "3\n",
      "{'name': 'ramesh', 'age': 20, 'location': 'ranipet'}\n"
     ]
    }
   ],
   "source": [
    "a={'name':'ramesh','age':20,'location':'ranipet'}\n",
    "print(type(a))\n",
    "print(len(a))\n",
    "print(a)"
   ]
  },
  {
   "cell_type": "code",
   "execution_count": 5,
   "id": "bd7060e1",
   "metadata": {},
   "outputs": [
    {
     "name": "stdout",
     "output_type": "stream",
     "text": [
      "ramesh\n",
      "ramesh\n"
     ]
    }
   ],
   "source": [
    "dic1={'name':'ramesh','age':20,'location':'ranipet'}\n",
    "print(dic1['name'])\n",
    "c=dic1['name']\n",
    "print(c)"
   ]
  },
  {
   "cell_type": "code",
   "execution_count": 7,
   "id": "07e91e93",
   "metadata": {},
   "outputs": [
    {
     "name": "stdout",
     "output_type": "stream",
     "text": [
      "ramesh\n",
      "dict_keys(['name', 'age', 'location']) dict_values(['ramesh', 20, 'ranipet'])\n",
      "dict_items([('name', 'ramesh'), ('age', 20), ('location', 'ranipet')])\n"
     ]
    }
   ],
   "source": [
    "print(a.get('name'))\n",
    "print(a.keys(),a.values())\n",
    "print(a.items())"
   ]
  },
  {
   "cell_type": "code",
   "execution_count": 8,
   "id": "c3e6c22d",
   "metadata": {},
   "outputs": [
    {
     "name": "stdout",
     "output_type": "stream",
     "text": [
      "{'name': 'Ramesh', 'age': 20, 'location': 'ranipet'}\n"
     ]
    }
   ],
   "source": [
    "# add items in dictionary\n",
    "dic2={'name':'ramesh','age':20,'location':'ranipet'}\n",
    "dic2['name']='Ramesh'\n",
    "print(dic2)\n"
   ]
  },
  {
   "cell_type": "code",
   "execution_count": 10,
   "id": "b12b8e57",
   "metadata": {},
   "outputs": [
    {
     "name": "stdout",
     "output_type": "stream",
     "text": [
      "{'name': 'RAMESH', 'age': '20', 'location': 'RANIPET', 'Location': 'RANIPET'}\n"
     ]
    }
   ],
   "source": [
    "# update()\n",
    "dic2.update({\n",
    "    'name':'RAMESH',\n",
    "    'age':'20',\n",
    "    'location':'RANIPET'\n",
    "})\n",
    "print(dic2)"
   ]
  },
  {
   "cell_type": "code",
   "execution_count": 11,
   "id": "6a8fb47c",
   "metadata": {},
   "outputs": [
    {
     "data": {
      "text/plain": [
       "{'location': 'RANIPET', 'Location': 'RANIPET'}"
      ]
     },
     "execution_count": 11,
     "metadata": {},
     "output_type": "execute_result"
    }
   ],
   "source": [
    "# remove\n",
    "dic3={'name': 'RAMESH', 'age': '20', 'location': 'RANIPET', 'Location': 'RANIPET'}\n",
    "dic3.pop('name')\n",
    "dic3.pop('age')\n",
    "dic3"
   ]
  },
  {
   "cell_type": "code",
   "execution_count": 12,
   "id": "24a9dec3",
   "metadata": {},
   "outputs": [
    {
     "data": {
      "text/plain": [
       "{'location': 'RANIPET'}"
      ]
     },
     "execution_count": 12,
     "metadata": {},
     "output_type": "execute_result"
    }
   ],
   "source": [
    "dic3.popitem()\n",
    "dic3"
   ]
  },
  {
   "cell_type": "code",
   "execution_count": null,
   "id": "1200ba02",
   "metadata": {},
   "outputs": [],
   "source": [
    "dic3.clear()\n",
    "del dic3"
   ]
  },
  {
   "cell_type": "code",
   "execution_count": null,
   "id": "0da0ecbc",
   "metadata": {},
   "outputs": [],
   "source": [
    "a=b.copy()"
   ]
  },
  {
   "cell_type": "code",
   "execution_count": 13,
   "id": "becf4ea8",
   "metadata": {},
   "outputs": [
    {
     "name": "stdout",
     "output_type": "stream",
     "text": [
      "suresh\n"
     ]
    }
   ],
   "source": [
    "nd={\n",
    "    'p1':{'name':'ramesh','age':20},\n",
    "    'p2':{'name':'suresh','age':20},\n",
    "    'p3':{'name':'gopal','age':20}\n",
    "}\n",
    "print(nd['p2']['name'])"
   ]
  },
  {
   "cell_type": "code",
   "execution_count": null,
   "id": "adf1bd4f",
   "metadata": {},
   "outputs": [],
   "source": []
  }
 ],
 "metadata": {
  "kernelspec": {
   "display_name": "base",
   "language": "python",
   "name": "python3"
  },
  "language_info": {
   "codemirror_mode": {
    "name": "ipython",
    "version": 3
   },
   "file_extension": ".py",
   "mimetype": "text/x-python",
   "name": "python",
   "nbconvert_exporter": "python",
   "pygments_lexer": "ipython3",
   "version": "3.12.7"
  }
 },
 "nbformat": 4,
 "nbformat_minor": 5
}
