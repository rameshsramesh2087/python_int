{
 "cells": [
  {
   "cell_type": "markdown",
   "id": "190b33c4",
   "metadata": {},
   "source": [
    "tuple are used to store multiple items in a single value.\n",
    "tuple are orderd and unchangbel\n",
    "\n",
    "tuple are created parenthesis()\n",
    "\n",
    "tuple can store any data type it is a heterogeneous\n",
    "\n",
    "tuple once created you cannot changeble values,tuple is immutable\n"
   ]
  },
  {
   "cell_type": "code",
   "execution_count": 3,
   "id": "bbbe73bb",
   "metadata": {},
   "outputs": [
    {
     "name": "stdout",
     "output_type": "stream",
     "text": [
      "<class 'tuple'>\n",
      "7\n",
      "1\n",
      "6\n"
     ]
    }
   ],
   "source": [
    "a=(1,2,3,4,5,6,7)\n",
    "print(type(a))\n",
    "print(len(a))\n",
    "print(a.count(1))\n",
    "print(a.index(7))"
   ]
  },
  {
   "cell_type": "code",
   "execution_count": 5,
   "id": "271fb754",
   "metadata": {},
   "outputs": [
    {
     "name": "stdout",
     "output_type": "stream",
     "text": [
      "dinesh\n",
      "('kishore', 'aravind')\n"
     ]
    }
   ],
   "source": [
    "tuple1=('ramesh','dinesh','kishore','aravind')\n",
    "print(tuple1[1])\n",
    "print(tuple1[2:4])"
   ]
  },
  {
   "cell_type": "code",
   "execution_count": 10,
   "id": "090ba7d6",
   "metadata": {},
   "outputs": [
    {
     "name": "stdout",
     "output_type": "stream",
     "text": [
      "1\n",
      "[3, 4]\n"
     ]
    }
   ],
   "source": [
    "# packing\n",
    "number=(1,2,3,4)\n",
    "(one,two,*three)=number\n",
    "print(one)\n",
    "print(three)"
   ]
  },
  {
   "cell_type": "code",
   "execution_count": 11,
   "id": "428fc746",
   "metadata": {},
   "outputs": [
    {
     "name": "stdout",
     "output_type": "stream",
     "text": [
      "(1, 2, 3, 4, 5, 'one', 'two', 'three')\n"
     ]
    }
   ],
   "source": [
    "# join two tuples\n",
    "a=(1,2,3,4,5)\n",
    "b=('one','two',\"three\")\n",
    "print(a+b)"
   ]
  },
  {
   "cell_type": "code",
   "execution_count": 12,
   "id": "e130eb77",
   "metadata": {},
   "outputs": [
    {
     "name": "stdout",
     "output_type": "stream",
     "text": [
      "4 4\n"
     ]
    }
   ],
   "source": [
    "# tuple types\n",
    "# count\n",
    "t1=(1,2,1,1,2,3,2,4,3,2,1,4)\n",
    "print(t1.count(1),t1.count(2))"
   ]
  },
  {
   "cell_type": "code",
   "execution_count": 13,
   "id": "63a40c20",
   "metadata": {},
   "outputs": [
    {
     "name": "stdout",
     "output_type": "stream",
     "text": [
      "1\n"
     ]
    }
   ],
   "source": [
    "# index\n",
    "t2=(1,2,3,4,5,6,7)\n",
    "print(t2.index(2))"
   ]
  },
  {
   "cell_type": "code",
   "execution_count": null,
   "id": "c5378a0e",
   "metadata": {},
   "outputs": [],
   "source": []
  }
 ],
 "metadata": {
  "kernelspec": {
   "display_name": "base",
   "language": "python",
   "name": "python3"
  },
  "language_info": {
   "codemirror_mode": {
    "name": "ipython",
    "version": 3
   },
   "file_extension": ".py",
   "mimetype": "text/x-python",
   "name": "python",
   "nbconvert_exporter": "python",
   "pygments_lexer": "ipython3",
   "version": "3.12.7"
  }
 },
 "nbformat": 4,
 "nbformat_minor": 5
}
