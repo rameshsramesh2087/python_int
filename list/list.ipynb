{
 "cells": [
  {
   "cell_type": "code",
   "execution_count": 1,
   "id": "c677fa67",
   "metadata": {},
   "outputs": [
    {
     "name": "stdout",
     "output_type": "stream",
     "text": [
      "<class 'list'>\n",
      "6\n",
      "1\n"
     ]
    }
   ],
   "source": [
    "a=[1,2,3,4,5,6]\n",
    "print(type(a))\n",
    "print(len(a))\n",
    "print(a.count(4))"
   ]
  },
  {
   "cell_type": "code",
   "execution_count": 7,
   "id": "b1263cc6",
   "metadata": {},
   "outputs": [
    {
     "name": "stdout",
     "output_type": "stream",
     "text": [
      "ramesh\n",
      "banana\n",
      "['ramesh', 'banana', 'suresh', 'dinesh', 'arul', 'madhnagopal']\n",
      "['suresh', 'dinesh', 'arul', 'madhnagopal']\n",
      "['ramesh', 'banana', 'suresh', 'dinesh', 'arul']\n"
     ]
    }
   ],
   "source": [
    "list1=['ramesh','banana','suresh','dinesh','arul','madhnagopal']\n",
    "print(list1[0])\n",
    "print(list1[1])\n",
    "print(list1[:])\n",
    "print(list1[2:])\n",
    "print(list1[:-1])"
   ]
  },
  {
   "cell_type": "code",
   "execution_count": 11,
   "id": "2173eb61",
   "metadata": {},
   "outputs": [
    {
     "name": "stdout",
     "output_type": "stream",
     "text": [
      "['ramesh', 'rakesh', 'haridhas', 'kaviya', 'vaishnavi', 'suresh', 'dinesh', 'arul', 'madhnagopal']\n"
     ]
    }
   ],
   "source": [
    "list1=['ramesh','banana','suresh','dinesh','arul','madhnagopal']\n",
    "list1[1]='rakesh'\n",
    "list1[1:2]=['rakesh','haridhas','kaviya','vaishnavi']\n",
    "print(list1)"
   ]
  },
  {
   "cell_type": "code",
   "execution_count": null,
   "id": "536c1c8a",
   "metadata": {},
   "outputs": [
    {
     "name": "stdout",
     "output_type": "stream",
     "text": [
      "[1, 2, 3]\n"
     ]
    }
   ],
   "source": [
    "# a.append()---add items end of the list\n",
    "awws=[]\n",
    "awws.append(1)\n",
    "awws.append(2)\n",
    "awws.append(3)\n",
    "print(awws)"
   ]
  },
  {
   "cell_type": "code",
   "execution_count": 13,
   "id": "75b5d3af",
   "metadata": {},
   "outputs": [
    {
     "name": "stdout",
     "output_type": "stream",
     "text": [
      "[0, 1, 2, 3, 4]\n"
     ]
    }
   ],
   "source": [
    "# a.insert()----insert list items in specific place using to index\n",
    "awws.insert(0,0)\n",
    "awws.insert(4,4)\n",
    "print(awws)"
   ]
  },
  {
   "cell_type": "code",
   "execution_count": 14,
   "id": "a6e832d9",
   "metadata": {},
   "outputs": [
    {
     "name": "stdout",
     "output_type": "stream",
     "text": [
      "['ramesh', 'rakesh', 'haridhas', 'kaviya', 'vaishnavi', 'suresh', 'dinesh', 'arul', 'madhnagopal', 0, 1, 2, 3, 4]\n"
     ]
    }
   ],
   "source": [
    "# a.extend()---append list into another list\n",
    "list1.extend(awws)\n",
    "print(list1)"
   ]
  },
  {
   "cell_type": "code",
   "execution_count": null,
   "id": "862550c0",
   "metadata": {},
   "outputs": [],
   "source": []
  }
 ],
 "metadata": {
  "kernelspec": {
   "display_name": "base",
   "language": "python",
   "name": "python3"
  },
  "language_info": {
   "codemirror_mode": {
    "name": "ipython",
    "version": 3
   },
   "file_extension": ".py",
   "mimetype": "text/x-python",
   "name": "python",
   "nbconvert_exporter": "python",
   "pygments_lexer": "ipython3",
   "version": "3.12.7"
  }
 },
 "nbformat": 4,
 "nbformat_minor": 5
}
