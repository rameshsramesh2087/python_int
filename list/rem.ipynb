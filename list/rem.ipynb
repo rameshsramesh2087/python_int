{
 "cells": [
  {
   "cell_type": "code",
   "execution_count": 1,
   "id": "6e071bfd",
   "metadata": {},
   "outputs": [
    {
     "data": {
      "text/plain": [
       "[3, 4, 5]"
      ]
     },
     "execution_count": 1,
     "metadata": {},
     "output_type": "execute_result"
    }
   ],
   "source": [
    "# a.remove()----remove specific list items\n",
    "a=[1,2,3,4,5]\n",
    "a.remove(1)\n",
    "a.remove(2)\n",
    "a"
   ]
  },
  {
   "cell_type": "code",
   "execution_count": 2,
   "id": "7cbcff05",
   "metadata": {},
   "outputs": [
    {
     "name": "stdout",
     "output_type": "stream",
     "text": [
      "['cherry', 'kiwi']\n"
     ]
    }
   ],
   "source": [
    "# a.pop(index)----remove list items in specific index\n",
    "list2=['banana','cherry','kiwi','graphes','orange']\n",
    "list2.pop(0)\n",
    "list2.pop(2)\n",
    "# a.pop()---remove last items in the list\n",
    "list2.pop()\n",
    "print(list2)\n"
   ]
  },
  {
   "cell_type": "code",
   "execution_count": 3,
   "id": "aaf9a583",
   "metadata": {},
   "outputs": [],
   "source": [
    "# del a[](or) a----delete list\n",
    "a=[12]\n",
    "del a"
   ]
  },
  {
   "cell_type": "code",
   "execution_count": 4,
   "id": "496707cd",
   "metadata": {},
   "outputs": [
    {
     "name": "stdout",
     "output_type": "stream",
     "text": [
      "[]\n"
     ]
    }
   ],
   "source": [
    "# a.clear()----clear the list items in the list return emptylist\n",
    "a=[1,2,3,4,4]\n",
    "a.clear()\n",
    "print(a)"
   ]
  },
  {
   "cell_type": "code",
   "execution_count": null,
   "id": "4e3dee3f",
   "metadata": {},
   "outputs": [],
   "source": []
  }
 ],
 "metadata": {
  "kernelspec": {
   "display_name": "base",
   "language": "python",
   "name": "python3"
  },
  "language_info": {
   "codemirror_mode": {
    "name": "ipython",
    "version": 3
   },
   "file_extension": ".py",
   "mimetype": "text/x-python",
   "name": "python",
   "nbconvert_exporter": "python",
   "pygments_lexer": "ipython3",
   "version": "3.12.7"
  }
 },
 "nbformat": 4,
 "nbformat_minor": 5
}
