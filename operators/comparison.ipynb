{
 "cells": [
  {
   "cell_type": "code",
   "execution_count": null,
   "id": "faf69360",
   "metadata": {},
   "outputs": [],
   "source": [
    "# comparison operators are used to compare  values return true are false\n",
    "'''\n",
    "*== --equal to\n",
    "*!= --not equal\n",
    "*> --greater than\n",
    "*< --less than\n",
    "*>= --greater than equal\n",
    "*<= --less than equal\n",
    "'''"
   ]
  },
  {
   "cell_type": "code",
   "execution_count": 1,
   "id": "1b261b39",
   "metadata": {},
   "outputs": [
    {
     "name": "stdout",
     "output_type": "stream",
     "text": [
      "True\n"
     ]
    }
   ],
   "source": [
    "print(1==1)"
   ]
  },
  {
   "cell_type": "code",
   "execution_count": 2,
   "id": "98a69f90",
   "metadata": {},
   "outputs": [
    {
     "name": "stdout",
     "output_type": "stream",
     "text": [
      "False\n"
     ]
    }
   ],
   "source": [
    "print(3==2)"
   ]
  },
  {
   "cell_type": "code",
   "execution_count": 3,
   "id": "c524bb88",
   "metadata": {},
   "outputs": [
    {
     "name": "stdout",
     "output_type": "stream",
     "text": [
      "True\n",
      "False\n"
     ]
    }
   ],
   "source": [
    "print(33!=2)\n",
    "print(44!=44)"
   ]
  },
  {
   "cell_type": "code",
   "execution_count": 4,
   "id": "88b1992b",
   "metadata": {},
   "outputs": [
    {
     "name": "stdout",
     "output_type": "stream",
     "text": [
      "False\n",
      "True\n"
     ]
    }
   ],
   "source": [
    "print(33>444)\n",
    "print(55<100)"
   ]
  },
  {
   "cell_type": "code",
   "execution_count": 6,
   "id": "bb9ddc8e",
   "metadata": {},
   "outputs": [
    {
     "name": "stdout",
     "output_type": "stream",
     "text": [
      "False\n",
      "True\n"
     ]
    }
   ],
   "source": [
    "print(100>=200)\n",
    "print(300>=100)"
   ]
  },
  {
   "cell_type": "code",
   "execution_count": 9,
   "id": "06b4f353",
   "metadata": {},
   "outputs": [
    {
     "name": "stdout",
     "output_type": "stream",
     "text": [
      "True\n",
      "True\n",
      "False\n"
     ]
    }
   ],
   "source": [
    "print(20<=100)\n",
    "print(30<=400)\n",
    "print(200<=33)"
   ]
  },
  {
   "cell_type": "code",
   "execution_count": null,
   "id": "ffbe7b3a",
   "metadata": {},
   "outputs": [],
   "source": []
  }
 ],
 "metadata": {
  "kernelspec": {
   "display_name": "base",
   "language": "python",
   "name": "python3"
  },
  "language_info": {
   "codemirror_mode": {
    "name": "ipython",
    "version": 3
   },
   "file_extension": ".py",
   "mimetype": "text/x-python",
   "name": "python",
   "nbconvert_exporter": "python",
   "pygments_lexer": "ipython3",
   "version": "3.12.7"
  }
 },
 "nbformat": 4,
 "nbformat_minor": 5
}
