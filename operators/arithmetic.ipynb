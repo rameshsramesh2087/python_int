{
 "cells": [
  {
   "cell_type": "code",
   "execution_count": 2,
   "id": "8e5934ea",
   "metadata": {},
   "outputs": [
    {
     "name": "stdout",
     "output_type": "stream",
     "text": [
      "110\n",
      "10\n"
     ]
    }
   ],
   "source": [
    "# arithmetic operators are used to perform numerical value to perform basic mathematical operations.\n",
    "\n",
    "\n",
    "print(55+55)\n",
    "print(65-55)"
   ]
  },
  {
   "cell_type": "code",
   "execution_count": 4,
   "id": "696d88c8",
   "metadata": {},
   "outputs": [
    {
     "name": "stdout",
     "output_type": "stream",
     "text": [
      "132\n",
      "0.3333333333333333\n"
     ]
    }
   ],
   "source": [
    "print(33*4)\n",
    "print(11/33)"
   ]
  },
  {
   "cell_type": "code",
   "execution_count": null,
   "id": "ed0ca2ed",
   "metadata": {},
   "outputs": [
    {
     "name": "stdout",
     "output_type": "stream",
     "text": [
      "0\n",
      "13.0\n",
      "27\n"
     ]
    }
   ],
   "source": [
    "print(33%3)\n",
    "print(30//2.3)\n",
    "print(3**3)"
   ]
  },
  {
   "cell_type": "code",
   "execution_count": null,
   "id": "4b67f8a2",
   "metadata": {},
   "outputs": [],
   "source": []
  }
 ],
 "metadata": {
  "kernelspec": {
   "display_name": "base",
   "language": "python",
   "name": "python3"
  },
  "language_info": {
   "codemirror_mode": {
    "name": "ipython",
    "version": 3
   },
   "file_extension": ".py",
   "mimetype": "text/x-python",
   "name": "python",
   "nbconvert_exporter": "python",
   "pygments_lexer": "ipython3",
   "version": "3.12.7"
  }
 },
 "nbformat": 4,
 "nbformat_minor": 5
}
