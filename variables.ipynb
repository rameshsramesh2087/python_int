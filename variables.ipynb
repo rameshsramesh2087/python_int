{
 "cells": [
  {
   "cell_type": "code",
   "execution_count": 1,
   "id": "1de5f066",
   "metadata": {},
   "outputs": [
    {
     "name": "stdout",
     "output_type": "stream",
     "text": [
      "30\n"
     ]
    }
   ],
   "source": [
    "a=10\n",
    "b=20\n",
    "print(a+b)"
   ]
  },
  {
   "cell_type": "code",
   "execution_count": 2,
   "id": "c8b19d09",
   "metadata": {},
   "outputs": [],
   "source": [
    "# variable name rulse\n",
    "# /a variable name must start letters or underscore\n",
    "# variable name cannaot start number.but can included underscore\n",
    "# no space allowed ,connot use python keywords\n",
    "# python case sensitive\n"
   ]
  },
  {
   "cell_type": "code",
   "execution_count": 3,
   "id": "d6a0d901",
   "metadata": {},
   "outputs": [
    {
     "name": "stdout",
     "output_type": "stream",
     "text": [
      "101 101 101\n"
     ]
    }
   ],
   "source": [
    "# multiple assign \n",
    "# python allowed multiple variable to be assing a value in sigle line\n",
    "a=b=c=101\n",
    "print(a,b,c)"
   ]
  },
  {
   "cell_type": "code",
   "execution_count": 4,
   "id": "03fc75aa",
   "metadata": {},
   "outputs": [
    {
     "name": "stdout",
     "output_type": "stream",
     "text": [
      "1 2 3\n"
     ]
    }
   ],
   "source": [
    "a,b,c=1,2,3\n",
    "print(a,b,c)"
   ]
  },
  {
   "cell_type": "code",
   "execution_count": 5,
   "id": "8577a83a",
   "metadata": {},
   "outputs": [
    {
     "name": "stdout",
     "output_type": "stream",
     "text": [
      "12 <class 'int'>\n",
      "33 <class 'str'>\n",
      "22.0 <class 'float'>\n"
     ]
    }
   ],
   "source": [
    "# type casting\n",
    "# if want specific datatype of variable\n",
    "a=int(12.0)\n",
    "b=str(33)\n",
    "c=float(22)\n",
    "print(a,type(a))\n",
    "print(b,type(b))\n",
    "print(c,type(c))"
   ]
  },
  {
   "cell_type": "code",
   "execution_count": 6,
   "id": "f13979f9",
   "metadata": {},
   "outputs": [
    {
     "name": "stdout",
     "output_type": "stream",
     "text": [
      "<class 'str'>\n"
     ]
    }
   ],
   "source": [
    "# casting\n",
    "# if want to get datatype of variable with typr function.\n",
    "a='ramesh'\n",
    "print(type(a))"
   ]
  },
  {
   "cell_type": "code",
   "execution_count": 8,
   "id": "5d216725",
   "metadata": {},
   "outputs": [
    {
     "name": "stdout",
     "output_type": "stream",
     "text": [
      "<class 'int'> <class 'int'>\n",
      "66.0 (44+0j)\n"
     ]
    }
   ],
   "source": [
    "# convert datatype\n",
    "a=66\n",
    "b=44\n",
    "print(type(a),type(b))\n",
    "c=float(a)\n",
    "d=complex(b)\n",
    "print(c,d)"
   ]
  },
  {
   "cell_type": "code",
   "execution_count": null,
   "id": "16c1ffe3",
   "metadata": {},
   "outputs": [],
   "source": []
  }
 ],
 "metadata": {
  "kernelspec": {
   "display_name": "base",
   "language": "python",
   "name": "python3"
  },
  "language_info": {
   "codemirror_mode": {
    "name": "ipython",
    "version": 3
   },
   "file_extension": ".py",
   "mimetype": "text/x-python",
   "name": "python",
   "nbconvert_exporter": "python",
   "pygments_lexer": "ipython3",
   "version": "3.12.7"
  }
 },
 "nbformat": 4,
 "nbformat_minor": 5
}
