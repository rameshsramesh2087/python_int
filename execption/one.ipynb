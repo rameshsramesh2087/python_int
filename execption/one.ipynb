{
 "cells": [
  {
   "cell_type": "code",
   "execution_count": 1,
   "id": "88a129da",
   "metadata": {},
   "outputs": [
    {
     "name": "stdout",
     "output_type": "stream",
     "text": [
      "your are eligibility for tamilputhalvan\n",
      "executed\n",
      "sucessfully executed\n"
     ]
    }
   ],
   "source": [
    "try:\n",
    "    a=str(input('enter your genter(M/F):'))\n",
    "    b=int(input('enter your age:'))\n",
    "    if a=='M':\n",
    "        if b>=18 and b<=30:\n",
    "            print('your are eligibility for tamilputhalvan')\n",
    "        else:\n",
    "            print('your not eligible for tamilputhalvan ')\n",
    "    elif a=='F':\n",
    "        if b>=18 and b<=30:\n",
    "            print('you are eligible for puthumai ')\n",
    "        else:\n",
    "            print('you are not eligible for puthumai')\n",
    "except Exception as err:\n",
    "    print(str(err))\n",
    "else:\n",
    "    print('executed')\n",
    "finally:\n",
    "    print('sucessfully executed')                        \n",
    "            \n",
    "            "
   ]
  },
  {
   "cell_type": "code",
   "execution_count": null,
   "id": "5eb260f8",
   "metadata": {},
   "outputs": [],
   "source": []
  }
 ],
 "metadata": {
  "kernelspec": {
   "display_name": "base",
   "language": "python",
   "name": "python3"
  },
  "language_info": {
   "codemirror_mode": {
    "name": "ipython",
    "version": 3
   },
   "file_extension": ".py",
   "mimetype": "text/x-python",
   "name": "python",
   "nbconvert_exporter": "python",
   "pygments_lexer": "ipython3",
   "version": "3.12.7"
  }
 },
 "nbformat": 4,
 "nbformat_minor": 5
}
