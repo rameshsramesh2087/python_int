{
 "cells": [
  {
   "cell_type": "code",
   "execution_count": 1,
   "id": "f5652d87",
   "metadata": {},
   "outputs": [
    {
     "name": "stdout",
     "output_type": "stream",
     "text": [
      "invalid\n"
     ]
    }
   ],
   "source": [
    "def fun1(a,b,c):\n",
    "    if c=='+':\n",
    "        print(a+b)\n",
    "    elif c=='-':\n",
    "        print(a-b)\n",
    "    elif c=='*':\n",
    "        print(a*b)\n",
    "    else:\n",
    "        print(\"invalid\")\n",
    "fun1(22,33,\"=\")                    "
   ]
  },
  {
   "cell_type": "markdown",
   "id": "61fa9e8e",
   "metadata": {},
   "source": [
    "parameter variable inside the function \n",
    "\n",
    "argument are actual value you pass .when calling the function"
   ]
  },
  {
   "cell_type": "markdown",
   "id": "d6e5293f",
   "metadata": {},
   "source": []
  }
 ],
 "metadata": {
  "kernelspec": {
   "display_name": "base",
   "language": "python",
   "name": "python3"
  },
  "language_info": {
   "codemirror_mode": {
    "name": "ipython",
    "version": 3
   },
   "file_extension": ".py",
   "mimetype": "text/x-python",
   "name": "python",
   "nbconvert_exporter": "python",
   "pygments_lexer": "ipython3",
   "version": "3.12.7"
  }
 },
 "nbformat": 4,
 "nbformat_minor": 5
}
