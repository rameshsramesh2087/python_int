{
 "cells": [
  {
   "cell_type": "code",
   "execution_count": 1,
   "id": "e2b388ab",
   "metadata": {},
   "outputs": [],
   "source": [
    "# collect extra keywords arguments into a dictionary. "
   ]
  },
  {
   "cell_type": "code",
   "execution_count": 2,
   "id": "1208b446",
   "metadata": {},
   "outputs": [
    {
     "name": "stdout",
     "output_type": "stream",
     "text": [
      "{'name': 'ramesh', 'age': 20, 'location': 'chennai'}\n",
      "<class 'dict'>\n"
     ]
    }
   ],
   "source": [
    "def kw(**key):\n",
    "    print(key)\n",
    "    print(type(key))\n",
    "kw(name='ramesh',age=20,location='chennai')    "
   ]
  },
  {
   "cell_type": "code",
   "execution_count": 3,
   "id": "afb5bccc",
   "metadata": {},
   "outputs": [
    {
     "name": "stdout",
     "output_type": "stream",
     "text": [
      "{'name': 'dinesh', 'age': 88}\n"
     ]
    }
   ],
   "source": [
    "def k(**key):\n",
    "    print(key)\n",
    "k(name='dinesh',age=88)    "
   ]
  },
  {
   "cell_type": "code",
   "execution_count": null,
   "id": "262b48ea",
   "metadata": {},
   "outputs": [],
   "source": []
  }
 ],
 "metadata": {
  "kernelspec": {
   "display_name": "base",
   "language": "python",
   "name": "python3"
  },
  "language_info": {
   "codemirror_mode": {
    "name": "ipython",
    "version": 3
   },
   "file_extension": ".py",
   "mimetype": "text/x-python",
   "name": "python",
   "nbconvert_exporter": "python",
   "pygments_lexer": "ipython3",
   "version": "3.12.7"
  }
 },
 "nbformat": 4,
 "nbformat_minor": 5
}
