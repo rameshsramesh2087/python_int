{
 "cells": [
  {
   "cell_type": "markdown",
   "id": "f94eee29",
   "metadata": {},
   "source": [
    "*when you don't know how many argumentsyou will passed into function"
   ]
  },
  {
   "cell_type": "code",
   "execution_count": 2,
   "id": "697f02a6",
   "metadata": {},
   "outputs": [
    {
     "name": "stdout",
     "output_type": "stream",
     "text": [
      "28\n",
      "<class 'tuple'>\n"
     ]
    }
   ],
   "source": [
    "def arr(*aribitary):\n",
    "    total=0\n",
    "    for i in aribitary:\n",
    "        total+=i\n",
    "    print(total)\n",
    "    print(type(aribitary))\n",
    "arr(1,2,3,4,5,6,7)        "
   ]
  },
  {
   "cell_type": "code",
   "execution_count": 3,
   "id": "6f993fa5",
   "metadata": {},
   "outputs": [
    {
     "name": "stdout",
     "output_type": "stream",
     "text": [
      "194\n"
     ]
    }
   ],
   "source": [
    "def a1(*w):\n",
    "    total=222\n",
    "    for i in w:\n",
    "        total-=i\n",
    "    print(total) \n",
    "a1(1,2,3,4,5,6,7)       "
   ]
  },
  {
   "cell_type": "code",
   "execution_count": null,
   "id": "14d0056f",
   "metadata": {},
   "outputs": [],
   "source": []
  }
 ],
 "metadata": {
  "kernelspec": {
   "display_name": "base",
   "language": "python",
   "name": "python3"
  },
  "language_info": {
   "codemirror_mode": {
    "name": "ipython",
    "version": 3
   },
   "file_extension": ".py",
   "mimetype": "text/x-python",
   "name": "python",
   "nbconvert_exporter": "python",
   "pygments_lexer": "ipython3",
   "version": "3.12.7"
  }
 },
 "nbformat": 4,
 "nbformat_minor": 5
}
