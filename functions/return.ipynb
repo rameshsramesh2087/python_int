{
 "cells": [
  {
   "cell_type": "code",
   "execution_count": 6,
   "id": "78959e64",
   "metadata": {},
   "outputs": [
    {
     "name": "stdout",
     "output_type": "stream",
     "text": [
      "hello guys\n",
      "None\n"
     ]
    }
   ],
   "source": [
    "def painter():\n",
    "    print('hello guys')\n",
    "print(painter())  "
   ]
  },
  {
   "cell_type": "code",
   "execution_count": 5,
   "id": "ee799c6d",
   "metadata": {},
   "outputs": [
    {
     "name": "stdout",
     "output_type": "stream",
     "text": [
      "hello guys\n"
     ]
    }
   ],
   "source": [
    "def hello():\n",
    "    return 'hello guys'\n",
    "print(hello())"
   ]
  },
  {
   "cell_type": "code",
   "execution_count": null,
   "id": "174ed336",
   "metadata": {},
   "outputs": [
    {
     "data": {
      "text/plain": [
       "(5, -1, 6)"
      ]
     },
     "execution_count": 7,
     "metadata": {},
     "output_type": "execute_result"
    }
   ],
   "source": [
    "def add(a,b):\n",
    "    return a+b,a-b,a*b\n",
    "add(2,3)\n"
   ]
  },
  {
   "cell_type": "code",
   "execution_count": null,
   "id": "867b9e29",
   "metadata": {},
   "outputs": [],
   "source": []
  }
 ],
 "metadata": {
  "kernelspec": {
   "display_name": "base",
   "language": "python",
   "name": "python3"
  },
  "language_info": {
   "codemirror_mode": {
    "name": "ipython",
    "version": 3
   },
   "file_extension": ".py",
   "mimetype": "text/x-python",
   "name": "python",
   "nbconvert_exporter": "python",
   "pygments_lexer": "ipython3",
   "version": "3.12.7"
  }
 },
 "nbformat": 4,
 "nbformat_minor": 5
}
