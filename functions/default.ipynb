{
 "cells": [
  {
   "cell_type": "code",
   "execution_count": 7,
   "id": "a1d1873a",
   "metadata": {},
   "outputs": [
    {
     "name": "stdout",
     "output_type": "stream",
     "text": [
      "11\n"
     ]
    }
   ],
   "source": [
    "def sum(a=0,b=0,op='*'):\n",
    "    if op=='+':\n",
    "        return(a+b)\n",
    "    elif op=='-':\n",
    "        return(a-b)\n",
    "    elif op=='*':\n",
    "        return(a*b)\n",
    "    else:\n",
    "        return('invalid')\n",
    "print(sum(11,0,\"+\"))    \n"
   ]
  },
  {
   "cell_type": "code",
   "execution_count": null,
   "id": "b0d58233",
   "metadata": {},
   "outputs": [],
   "source": []
  },
  {
   "cell_type": "code",
   "execution_count": null,
   "id": "8bd78a2a",
   "metadata": {},
   "outputs": [],
   "source": []
  }
 ],
 "metadata": {
  "kernelspec": {
   "display_name": "base",
   "language": "python",
   "name": "python3"
  },
  "language_info": {
   "codemirror_mode": {
    "name": "ipython",
    "version": 3
   },
   "file_extension": ".py",
   "mimetype": "text/x-python",
   "name": "python",
   "nbconvert_exporter": "python",
   "pygments_lexer": "ipython3",
   "version": "3.12.7"
  }
 },
 "nbformat": 4,
 "nbformat_minor": 5
}
