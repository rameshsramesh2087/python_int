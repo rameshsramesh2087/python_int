{
 "cells": [
  {
   "cell_type": "markdown",
   "id": "2e8d9614",
   "metadata": {},
   "source": [
    "python is a papular programming language .it was developed guido van rossum.it released 1991\n"
   ]
  },
  {
   "cell_type": "markdown",
   "id": "b5d50bf1",
   "metadata": {},
   "source": [
    "Famous Application Built using Python\n",
    "YouTube: World’s largest video-sharing platform uses Python for features like video streaming and backend services.\n",
    "Instagram: This popular social media app relies on Python’s simplicity for scaling and handling millions of users.\n",
    "Spotify: Python is used for backend services and machine learning to personalize music recommendations.\n",
    "Dropbox: The file hosting service uses Python for both its desktop client and server-side operations.\n",
    "Netflix: Python powers key components of Netflix’s recommendation engine and content delivery systems (CDN).\n",
    "Google: Python is one of the key languages used in Google for web crawling, testing and data analysis.\n",
    "Uber: Python helps Uber handle dynamic pricing and route optimization using machine learning.\n",
    "Pinterest: Python is used to process and store huge amounts of image data efficiently.\n",
    "What can we do with Python?\n",
    "Python is used for:\n",
    "\n",
    "Web Development: Frameworks like Django, Flask.\n",
    "Data Science and Analysis: Libraries like Pandas, NumPy, Matplotlib.\n",
    "Machine Learning and AI: TensorFlow, PyTorch, Scikit-learn.\n",
    "Automation and Scripting: Automate repetitive tasks.\n",
    "Game Development: Libraries like Pygame.\n",
    "Web Scraping: Tools like BeautifulSoup, Scrapy.\n",
    "Desktop Applications: GUI frameworks like Tkinter, PyQt.\n",
    "Scientific Computing: SciPy, SymPy.\n",
    "Internet of Things (IoT): MicroPython, Raspberry Pi.\n",
    "DevOps and Cloud: Automation scripts and APIs.\n",
    "Cybersecurity: Penetration testing and ethical hacking tools."
   ]
  }
 ],
 "metadata": {
  "language_info": {
   "name": "python"
  }
 },
 "nbformat": 4,
 "nbformat_minor": 5
}
