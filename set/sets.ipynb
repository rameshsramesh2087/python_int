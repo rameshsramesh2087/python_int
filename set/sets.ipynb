{
 "cells": [
  {
   "cell_type": "code",
   "execution_count": 1,
   "id": "58458267",
   "metadata": {},
   "outputs": [
    {
     "name": "stdout",
     "output_type": "stream",
     "text": [
      "<class 'set'> 5\n"
     ]
    }
   ],
   "source": [
    "'''\n",
    "set are used to store multiple value in single variable\n",
    "set item unchanbeble,but you can you can add,remove new items\n",
    "\n",
    "set unorder set,not allowed duplicate,set does not have a difined order\n",
    "set contain any data type ---heterogeneouus\n",
    "\n",
    "'''\n",
    "s1={1,2,3,4,5}\n",
    "print(type(s1),len(s1))"
   ]
  },
  {
   "cell_type": "code",
   "execution_count": 13,
   "id": "fd55ca45",
   "metadata": {},
   "outputs": [
    {
     "name": "stdout",
     "output_type": "stream",
     "text": [
      "suresh\n",
      "ramesh\n"
     ]
    }
   ],
   "source": [
    "s2={'ramesh','dinesh','suresh'}\n",
    "for i in s2:\n",
    "    \n",
    "    if i=='dinesh':\n",
    "        break\n",
    "    print(i)"
   ]
  },
  {
   "cell_type": "code",
   "execution_count": 14,
   "id": "8811ce61",
   "metadata": {},
   "outputs": [
    {
     "name": "stdout",
     "output_type": "stream",
     "text": [
      "True\n"
     ]
    }
   ],
   "source": [
    "print('ramesh' in s2)"
   ]
  },
  {
   "cell_type": "code",
   "execution_count": null,
   "id": "82a16049",
   "metadata": {},
   "outputs": [],
   "source": []
  }
 ],
 "metadata": {
  "kernelspec": {
   "display_name": "base",
   "language": "python",
   "name": "python3"
  },
  "language_info": {
   "codemirror_mode": {
    "name": "ipython",
    "version": 3
   },
   "file_extension": ".py",
   "mimetype": "text/x-python",
   "name": "python",
   "nbconvert_exporter": "python",
   "pygments_lexer": "ipython3",
   "version": "3.12.7"
  }
 },
 "nbformat": 4,
 "nbformat_minor": 5
}
