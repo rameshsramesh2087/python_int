{
 "cells": [
  {
   "cell_type": "code",
   "execution_count": 1,
   "id": "38ea5b3c",
   "metadata": {},
   "outputs": [
    {
     "data": {
      "text/plain": [
       "{'apple', 'dinesh', 'kiwi', 'ramesh'}"
      ]
     },
     "execution_count": 1,
     "metadata": {},
     "output_type": "execute_result"
    }
   ],
   "source": [
    "# add set items\n",
    "# a.add() add one item to set used add()\n",
    "f={'ramesh','dinesh'}\n",
    "f.add('apple')\n",
    "f.add('kiwi')\n",
    "f"
   ]
  },
  {
   "cell_type": "code",
   "execution_count": 2,
   "id": "53e5d4cb",
   "metadata": {},
   "outputs": [
    {
     "name": "stdout",
     "output_type": "stream",
     "text": [
      "{0, 1, 2, 3, 4, 5, 6, 7, 8, 9}\n"
     ]
    }
   ],
   "source": [
    "# a.update(another set)--- add two sets\n",
    "a={1,2,3,4,5}\n",
    "b={5,6,7,8,9,0}\n",
    "a.update(b)\n",
    "print(a)"
   ]
  },
  {
   "cell_type": "code",
   "execution_count": 5,
   "id": "80e3a43f",
   "metadata": {},
   "outputs": [
    {
     "name": "stdout",
     "output_type": "stream",
     "text": [
      "{0, 1, 5, 6, 7, 8, 9}\n"
     ]
    }
   ],
   "source": [
    "# remove items-----remove specific value\n",
    "set2={0, 1, 2, 3, 4, 5, 6, 7, 8, 9}\n",
    "set2.remove(2)\n",
    "set2.remove(3)\n",
    "set2.discard(4)\n",
    "print(set2)"
   ]
  },
  {
   "cell_type": "code",
   "execution_count": null,
   "id": "8f497a80",
   "metadata": {},
   "outputs": [],
   "source": [
    "# del,a.clear"
   ]
  }
 ],
 "metadata": {
  "kernelspec": {
   "display_name": "base",
   "language": "python",
   "name": "python3"
  },
  "language_info": {
   "codemirror_mode": {
    "name": "ipython",
    "version": 3
   },
   "file_extension": ".py",
   "mimetype": "text/x-python",
   "name": "python",
   "nbconvert_exporter": "python",
   "pygments_lexer": "ipython3",
   "version": "3.12.7"
  }
 },
 "nbformat": 4,
 "nbformat_minor": 5
}
