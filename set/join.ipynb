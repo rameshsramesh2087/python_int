{
 "cells": [
  {
   "cell_type": "code",
   "execution_count": 6,
   "id": "99a3a6cc",
   "metadata": {},
   "outputs": [
    {
     "name": "stdout",
     "output_type": "stream",
     "text": [
      "{'graphes', 'kiwi', 'cherry', 'pineapple', 'orange', 'banana', 'apple'}\n"
     ]
    }
   ],
   "source": [
    "# union\n",
    "a={'apple','cherry','banana','kiwi'}\n",
    "b={'cherry','orange','pineapple','graphes'}\n",
    "a=a.union(b)\n",
    "print(a)"
   ]
  },
  {
   "cell_type": "code",
   "execution_count": 5,
   "id": "c13a2e01",
   "metadata": {},
   "outputs": [
    {
     "name": "stdout",
     "output_type": "stream",
     "text": [
      "{'graphes', 'kiwi', 'cherry', 'pineapple', 'orange', 'banana', 'apple'}\n"
     ]
    }
   ],
   "source": [
    "a={'apple','cherry','banana','kiwi'}\n",
    "b={'cherry','orange','pineapple','graphes'}\n",
    "a.update(b)\n",
    "print(a)"
   ]
  },
  {
   "cell_type": "code",
   "execution_count": 9,
   "id": "9ccc25c0",
   "metadata": {},
   "outputs": [
    {
     "data": {
      "text/plain": [
       "{'cherry'}"
      ]
     },
     "execution_count": 9,
     "metadata": {},
     "output_type": "execute_result"
    }
   ],
   "source": [
    "a={'apple','cherry','banana','kiwi'}\n",
    "b={'cherry','orange','pineapple','graphes'}\n",
    "a=a.intersection(b)\n",
    "a"
   ]
  },
  {
   "cell_type": "code",
   "execution_count": 10,
   "id": "88cfaaf9",
   "metadata": {},
   "outputs": [
    {
     "data": {
      "text/plain": [
       "{'cherry'}"
      ]
     },
     "execution_count": 10,
     "metadata": {},
     "output_type": "execute_result"
    }
   ],
   "source": [
    "a={'apple','cherry','banana','kiwi'}\n",
    "b={'cherry','orange','pineapple','graphes'}\n",
    "a.intersection_update(b)\n",
    "a"
   ]
  },
  {
   "cell_type": "code",
   "execution_count": 11,
   "id": "77fe47b9",
   "metadata": {},
   "outputs": [
    {
     "data": {
      "text/plain": [
       "{'apple', 'banana', 'kiwi'}"
      ]
     },
     "execution_count": 11,
     "metadata": {},
     "output_type": "execute_result"
    }
   ],
   "source": [
    "a={'apple','cherry','banana','kiwi'}\n",
    "b={'cherry','orange','pineapple','graphes'}\n",
    "c=a.difference(b)\n",
    "c"
   ]
  },
  {
   "cell_type": "code",
   "execution_count": 13,
   "id": "8e13f6d1",
   "metadata": {},
   "outputs": [
    {
     "data": {
      "text/plain": [
       "{'apple', 'banana', 'kiwi'}"
      ]
     },
     "execution_count": 13,
     "metadata": {},
     "output_type": "execute_result"
    }
   ],
   "source": [
    "a={'apple','cherry','banana','kiwi'}\n",
    "b={'cherry','orange','pineapple','graphes'}\n",
    "a.difference_update(b)\n",
    "a\n"
   ]
  },
  {
   "cell_type": "code",
   "execution_count": 14,
   "id": "cf77cb46",
   "metadata": {},
   "outputs": [
    {
     "data": {
      "text/plain": [
       "{'apple', 'banana', 'graphes', 'kiwi', 'orange', 'pineapple'}"
      ]
     },
     "execution_count": 14,
     "metadata": {},
     "output_type": "execute_result"
    }
   ],
   "source": [
    "a={'apple','cherry','banana','kiwi'}\n",
    "b={'cherry','orange','pineapple','graphes'}\n",
    "c=a.symmetric_difference(b)\n",
    "c"
   ]
  },
  {
   "cell_type": "code",
   "execution_count": 15,
   "id": "dbf84e4f",
   "metadata": {},
   "outputs": [
    {
     "data": {
      "text/plain": [
       "{'apple', 'banana', 'graphes', 'kiwi', 'orange', 'pineapple'}"
      ]
     },
     "execution_count": 15,
     "metadata": {},
     "output_type": "execute_result"
    }
   ],
   "source": [
    "a={'apple','cherry','banana','kiwi'}\n",
    "b={'cherry','orange','pineapple','graphes'}\n",
    "a.symmetric_difference_update(b)\n",
    "a"
   ]
  },
  {
   "cell_type": "code",
   "execution_count": null,
   "id": "fa0a62f5",
   "metadata": {},
   "outputs": [],
   "source": []
  }
 ],
 "metadata": {
  "kernelspec": {
   "display_name": "base",
   "language": "python",
   "name": "python3"
  },
  "language_info": {
   "codemirror_mode": {
    "name": "ipython",
    "version": 3
   },
   "file_extension": ".py",
   "mimetype": "text/x-python",
   "name": "python",
   "nbconvert_exporter": "python",
   "pygments_lexer": "ipython3",
   "version": "3.12.7"
  }
 },
 "nbformat": 4,
 "nbformat_minor": 5
}
