{
 "cells": [
  {
   "cell_type": "code",
   "execution_count": null,
   "id": "50b59124",
   "metadata": {},
   "outputs": [
    {
     "name": "stdout",
     "output_type": "stream",
     "text": [
      "your name ,ramesh\n"
     ]
    }
   ],
   "source": [
    "# how do you take user input in python ?\n",
    "# get input from user\n",
    "name=str(input('enter your name:'))\n",
    "print(f'your name ,{name}')"
   ]
  },
  {
   "cell_type": "code",
   "execution_count": 4,
   "id": "3b701cac",
   "metadata": {},
   "outputs": [
    {
     "name": "stdout",
     "output_type": "stream",
     "text": [
      "invalis input kindliy enter numbers\n"
     ]
    }
   ],
   "source": [
    "# how do you read numerical input  from user\n",
    "try:\n",
    "    num=int(input('enter your number'))\n",
    "    print(f'your number{num}')\n",
    "except:\n",
    "    print('invalis input kindliy enter numbers')    "
   ]
  },
  {
   "cell_type": "code",
   "execution_count": 7,
   "id": "77fb1452",
   "metadata": {},
   "outputs": [
    {
     "name": "stdout",
     "output_type": "stream",
     "text": [
      "hello world\n",
      "hello,world\n"
     ]
    }
   ],
   "source": [
    "# how do you print multiple items in single line\n",
    "print('hello','world')\n",
    "print('hello','world',sep=',')"
   ]
  },
  {
   "cell_type": "code",
   "execution_count": null,
   "id": "b72f382b",
   "metadata": {},
   "outputs": [],
   "source": [
    "# primary function for file handling\n",
    "a=open('abc...txt','w')\n",
    "a.write('hello world')\n",
    "a.close()"
   ]
  },
  {
   "cell_type": "code",
   "execution_count": null,
   "id": "ab1a872c",
   "metadata": {},
   "outputs": [],
   "source": []
  }
 ],
 "metadata": {
  "kernelspec": {
   "display_name": "base",
   "language": "python",
   "name": "python3"
  },
  "language_info": {
   "codemirror_mode": {
    "name": "ipython",
    "version": 3
   },
   "file_extension": ".py",
   "mimetype": "text/x-python",
   "name": "python",
   "nbconvert_exporter": "python",
   "pygments_lexer": "ipython3",
   "version": "3.12.7"
  }
 },
 "nbformat": 4,
 "nbformat_minor": 5
}
