{
 "cells": [
  {
   "cell_type": "code",
   "execution_count": 2,
   "id": "158aa94c",
   "metadata": {},
   "outputs": [
    {
     "name": "stdout",
     "output_type": "stream",
     "text": [
      "<class '__main__.myclass'>\n",
      "<class 'type'>\n"
     ]
    }
   ],
   "source": [
    "class myclass:\n",
    "    x=22\n",
    "    y=33\n",
    "print(myclass)    \n",
    "print(type(myclass))\n",
    "# class is blue print of plan\n",
    "# object instance of class ----means somethong  you build the class"
   ]
  },
  {
   "cell_type": "code",
   "execution_count": null,
   "id": "80486c10",
   "metadata": {},
   "outputs": [
    {
     "name": "stdout",
     "output_type": "stream",
     "text": [
      "55\n"
     ]
    }
   ],
   "source": [
    "# object something build using class\n",
    "class myclass:\n",
    "    x=22\n",
    "    y=33\n",
    "ob=myclass()\n",
    "print(ob.x+ob.y)    \n"
   ]
  },
  {
   "cell_type": "code",
   "execution_count": 3,
   "id": "e67f1cde",
   "metadata": {},
   "outputs": [
    {
     "name": "stdout",
     "output_type": "stream",
     "text": [
      "22 23\n"
     ]
    }
   ],
   "source": [
    "class my:\n",
    "    a=22\n",
    "    b=23\n",
    "m=my()\n",
    "print(m.a,m.b)    "
   ]
  },
  {
   "cell_type": "code",
   "execution_count": 4,
   "id": "7dc9992b",
   "metadata": {},
   "outputs": [
    {
     "name": "stdout",
     "output_type": "stream",
     "text": [
      "200 ===== 300\n",
      "400 ==== 600\n",
      "20 3\n"
     ]
    }
   ],
   "source": [
    "class cons:\n",
    "    def __init__(self , value1=20,value2=3):\n",
    "        self.x=value1\n",
    "        self.y=value2\n",
    "obj=cons()\n",
    "abc=cons(200,400)\n",
    "xyz=cons(300,600)\n",
    "print(abc.x,'=====',xyz.x)\n",
    "print(abc.y,'====',xyz.y)\n",
    "print(obj.x,obj.y)        "
   ]
  },
  {
   "cell_type": "code",
   "execution_count": 6,
   "id": "a60a44d7",
   "metadata": {},
   "outputs": [
    {
     "name": "stdout",
     "output_type": "stream",
     "text": [
      "0 0 -------------- 0\n",
      "200 333\n",
      "200\n"
     ]
    }
   ],
   "source": [
    "class myclass:\n",
    "    def __init__(self,value1=0,value2=0):\n",
    "        self.x=value1\n",
    "        self.y=value2\n",
    "ob=myclass()\n",
    "ob1=myclass(200,333)\n",
    "ob2=myclass(400,200)\n",
    "print(ob.x,ob.y,'--------------',ob.x+ob.y)\n",
    "print(ob1.x,ob1.y)\n",
    "print(ob2.x-ob2.y)        "
   ]
  },
  {
   "cell_type": "code",
   "execution_count": 15,
   "id": "d71bd557",
   "metadata": {},
   "outputs": [
    {
     "name": "stdout",
     "output_type": "stream",
     "text": [
      "350\n",
      "55\n",
      "77\n"
     ]
    }
   ],
   "source": [
    "class myc:\n",
    "    def cal(self,a=0,b=0):\n",
    "        print(a+b)\n",
    "add=myc()\n",
    "add.cal(200,150)\n",
    "add.cal(22,33)   \n",
    "add.cal(33,44)   "
   ]
  },
  {
   "cell_type": "code",
   "execution_count": null,
   "id": "9f5572a5",
   "metadata": {},
   "outputs": [],
   "source": []
  }
 ],
 "metadata": {
  "kernelspec": {
   "display_name": "base",
   "language": "python",
   "name": "python3"
  },
  "language_info": {
   "codemirror_mode": {
    "name": "ipython",
    "version": 3
   },
   "file_extension": ".py",
   "mimetype": "text/x-python",
   "name": "python",
   "nbconvert_exporter": "python",
   "pygments_lexer": "ipython3",
   "version": "3.12.7"
  }
 },
 "nbformat": 4,
 "nbformat_minor": 5
}
