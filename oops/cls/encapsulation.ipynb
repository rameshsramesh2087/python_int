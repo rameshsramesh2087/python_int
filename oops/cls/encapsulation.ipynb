{
 "cells": [
  {
   "cell_type": "code",
   "execution_count": 3,
   "id": "639b47a5",
   "metadata": {},
   "outputs": [
    {
     "name": "stdout",
     "output_type": "stream",
     "text": [
      "goooooooooooooogle\n"
     ]
    }
   ],
   "source": [
    "# protect data from unauthorized access and accidental modification.\n",
    "class company():\n",
    "    def __init__(self):\n",
    "        self.companyname='google'\n",
    "obj=company()\n",
    "obj.companyname='goooooooooooooogle'\n",
    "print(obj.companyname)        "
   ]
  },
  {
   "cell_type": "code",
   "execution_count": 6,
   "id": "4633bd50",
   "metadata": {},
   "outputs": [
    {
     "name": "stdout",
     "output_type": "stream",
     "text": [
      "1000\n"
     ]
    }
   ],
   "source": [
    "class Bank:\n",
    "    __balance = 1000\n",
    "\n",
    "    def __getBalance(self):\n",
    "        print(self.__balance)\n",
    "\n",
    "    def hello(self):\n",
    "        self.__getBalance()\n",
    "\n",
    "account_holder = Bank()\n",
    "account_holder.hello()"
   ]
  },
  {
   "cell_type": "code",
   "execution_count": 1,
   "id": "c5bdfddc",
   "metadata": {},
   "outputs": [
    {
     "name": "stdout",
     "output_type": "stream",
     "text": [
      "100000\n"
     ]
    }
   ],
   "source": [
    "class bank:\n",
    "    __balance=100000\n",
    "    def __getblance(self):\n",
    "        print(self.__balance)\n",
    "    def hello(self):\n",
    "        self.__getblance() \n",
    "bal=bank()\n",
    "bal.hello()           "
   ]
  },
  {
   "cell_type": "code",
   "execution_count": 2,
   "id": "ae70c272",
   "metadata": {},
   "outputs": [
    {
     "ename": "AttributeError",
     "evalue": "'bank' object has no attribute '__balance'",
     "output_type": "error",
     "traceback": [
      "\u001b[1;31m---------------------------------------------------------------------------\u001b[0m",
      "\u001b[1;31mAttributeError\u001b[0m                            Traceback (most recent call last)",
      "Cell \u001b[1;32mIn[2], line 8\u001b[0m\n\u001b[0;32m      6\u001b[0m         \u001b[38;5;28mself\u001b[39m\u001b[38;5;241m.\u001b[39m__getblance() \n\u001b[0;32m      7\u001b[0m bal\u001b[38;5;241m=\u001b[39mbank()\n\u001b[1;32m----> 8\u001b[0m \u001b[38;5;28mprint\u001b[39m(bal\u001b[38;5;241m.\u001b[39m__balance)\n",
      "\u001b[1;31mAttributeError\u001b[0m: 'bank' object has no attribute '__balance'"
     ]
    }
   ],
   "source": [
    "class bank:\n",
    "    __balance=100000\n",
    "    def __getblance(self):\n",
    "        print(self.__balance)\n",
    "    def hello(self):\n",
    "        self.__getblance() \n",
    "bal=bank()\n",
    "print(bal.__balance)         "
   ]
  },
  {
   "cell_type": "code",
   "execution_count": null,
   "id": "8bcba256",
   "metadata": {},
   "outputs": [],
   "source": []
  }
 ],
 "metadata": {
  "kernelspec": {
   "display_name": "base",
   "language": "python",
   "name": "python3"
  },
  "language_info": {
   "codemirror_mode": {
    "name": "ipython",
    "version": 3
   },
   "file_extension": ".py",
   "mimetype": "text/x-python",
   "name": "python",
   "nbconvert_exporter": "python",
   "pygments_lexer": "ipython3",
   "version": "3.12.7"
  }
 },
 "nbformat": 4,
 "nbformat_minor": 5
}
